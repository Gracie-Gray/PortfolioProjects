{
 "cells": [
  {
   "cell_type": "code",
   "execution_count": 36,
   "id": "fe154f86-f9e7-472e-bd87-274d4cfeb344",
   "metadata": {},
   "outputs": [],
   "source": [
    "#Python File Sorter"
   ]
  },
  {
   "cell_type": "code",
   "execution_count": 38,
   "id": "d43266b2-818d-4ce0-95a2-c7f6a5411b0b",
   "metadata": {},
   "outputs": [],
   "source": [
    "import os, shutil"
   ]
  },
  {
   "cell_type": "code",
   "execution_count": 40,
   "id": "40b95a4d-0f94-4d76-9344-680bcd78e97f",
   "metadata": {},
   "outputs": [],
   "source": [
    "path = r\"C:\\Users\\graci\\OneDrive\\Coding\\PersonalProjects\""
   ]
  },
  {
   "cell_type": "code",
   "execution_count": 42,
   "id": "1dec779f-141c-4af9-914a-7b0b5ee2f070",
   "metadata": {
    "collapsed": true,
    "jupyter": {
     "outputs_hidden": true
    }
   },
   "outputs": [
    {
     "ename": "FileNotFoundError",
     "evalue": "[Errno 2] No such file or directory: 'C:\\\\Users\\\\graci\\\\OneDrive\\\\Coding\\\\PersonalProjects'",
     "output_type": "error",
     "traceback": [
      "\u001b[0;31m---------------------------------------------------------------------------\u001b[0m",
      "\u001b[0;31mFileNotFoundError\u001b[0m                         Traceback (most recent call last)",
      "Cell \u001b[0;32mIn[42], line 1\u001b[0m\n\u001b[0;32m----> 1\u001b[0m file_name \u001b[38;5;241m=\u001b[39m os\u001b[38;5;241m.\u001b[39mlistdir(path)\n",
      "\u001b[0;31mFileNotFoundError\u001b[0m: [Errno 2] No such file or directory: 'C:\\\\Users\\\\graci\\\\OneDrive\\\\Coding\\\\PersonalProjects'"
     ]
    }
   ],
   "source": [
    "file_name = os.listdir(path)"
   ]
  },
  {
   "cell_type": "code",
   "execution_count": null,
   "id": "15454e4e-8b0f-44ee-96b8-e1e4338c6676",
   "metadata": {},
   "outputs": [],
   "source": [
    "folder_names = ['csv files', 'image files', 'text files']\n",
    "\n",
    "for loop in range (0,3):\n",
    "    if not os.path.exists(path + folder_names[loop]\n",
    "        os.makedirs((path + folder_names[loop])\n",
    "\n",
    "for file in file_name:\n",
    "    if \".csv\" in file and not os.path.exists(path + \"csv files/\" + file):\n",
    "        shutil.move(path + file, path + \"csv files/\" + file)\n",
    "    elif \".png\" in file and not os.path.exists(path + \"image files/\" + file):\n",
    "        shutil.move(path + file, path + \"image files/\" + file)\n",
    "    elif \".txt\" in file and not os.path.exists(path + \"text files/\" + file):\n",
    "        shutil.move(path + file, path + \"text files/\" + file)\n",
    "    else:\n",
    "        print(\"There are files in this path that weren't moved\")\n",
    "            "
   ]
  },
  {
   "cell_type": "code",
   "execution_count": null,
   "id": "7360ac7b-861c-47b6-8e50-3b9001987e5c",
   "metadata": {},
   "outputs": [],
   "source": []
  },
  {
   "cell_type": "code",
   "execution_count": null,
   "id": "a879038f-0e70-425e-93dd-2ef26f88a3b7",
   "metadata": {},
   "outputs": [],
   "source": []
  },
  {
   "cell_type": "code",
   "execution_count": null,
   "id": "8b37dc3e-fcf9-436e-8a83-889ee91b1efd",
   "metadata": {},
   "outputs": [],
   "source": []
  },
  {
   "cell_type": "code",
   "execution_count": null,
   "id": "a003fa01-1c42-4d82-8dd2-1d5c1a3251f8",
   "metadata": {},
   "outputs": [],
   "source": []
  },
  {
   "cell_type": "code",
   "execution_count": null,
   "id": "4871aee1-f823-4e4f-8a5b-688978cb7339",
   "metadata": {},
   "outputs": [],
   "source": []
  },
  {
   "cell_type": "code",
   "execution_count": null,
   "id": "17174ebf-6df4-44e9-80b8-8ccfd4cd48f4",
   "metadata": {},
   "outputs": [],
   "source": []
  },
  {
   "cell_type": "code",
   "execution_count": null,
   "id": "5c7400d4-cda1-4cb8-a49e-f49ab46bf9e3",
   "metadata": {},
   "outputs": [],
   "source": []
  },
  {
   "cell_type": "code",
   "execution_count": null,
   "id": "fe0fc692-4cb7-41a4-91c8-44d61ee0dedc",
   "metadata": {},
   "outputs": [],
   "source": []
  },
  {
   "cell_type": "code",
   "execution_count": null,
   "id": "0bae9a76-14cf-4596-90cd-f4f5afe5d95f",
   "metadata": {},
   "outputs": [],
   "source": []
  },
  {
   "cell_type": "code",
   "execution_count": null,
   "id": "6b1df516-dd6d-4574-aa1e-6ed3b1b1ea21",
   "metadata": {},
   "outputs": [],
   "source": []
  }
 ],
 "metadata": {
  "kernelspec": {
   "display_name": "anaconda-panel-2023.05-py310",
   "language": "python",
   "name": "conda-env-anaconda-panel-2023.05-py310-py"
  },
  "language_info": {
   "codemirror_mode": {
    "name": "ipython",
    "version": 3
   },
   "file_extension": ".py",
   "mimetype": "text/x-python",
   "name": "python",
   "nbconvert_exporter": "python",
   "pygments_lexer": "ipython3",
   "version": "3.11.5"
  }
 },
 "nbformat": 4,
 "nbformat_minor": 5
}
